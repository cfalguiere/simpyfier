{
 "cells": [
  {
   "cell_type": "markdown",
   "id": "ec396666",
   "metadata": {},
   "source": [
    "# Code With Me - Simpy - 01 - Generators"
   ]
  },
  {
   "cell_type": "markdown",
   "id": "cc908017",
   "metadata": {},
   "source": [
    "Simpy uses Pyhton generators.\n",
    "> Processes in SimPy are defined by Python generator functions and may, for example, be used to model active components like customers, vehicles or agents. - Simpy documentation \n",
    "\n",
    "The goal of this episode is to understand what is a generator and how does simpy use generators.\n",
    "\n",
    "Feel free to skip the first part it you know already what a generator is, and all this episaode if you do not feed the need to go deeper into details about generators."
   ]
  },
  {
   "cell_type": "markdown",
   "id": "147e808f",
   "metadata": {},
   "source": [
    "### Goal\n",
    "- understand Python iterators and generator\n",
    "- understand how Simpy uses generators"
   ]
  },
  {
   "cell_type": "markdown",
   "id": "b4d860be",
   "metadata": {},
   "source": [
    "### Install the simpy package"
   ]
  },
  {
   "cell_type": "code",
   "execution_count": 23,
   "id": "7d1e112d",
   "metadata": {},
   "outputs": [
    {
     "name": "stdout",
     "output_type": "stream",
     "text": [
      "Requirement already satisfied: simpy in /Users/cfalguiere/opt/anaconda3/envs/simpy/lib/python3.8/site-packages (4.0.1)\r\n"
     ]
    }
   ],
   "source": [
    "!pip install simpy"
   ]
  },
  {
   "cell_type": "markdown",
   "id": "f956b2e8",
   "metadata": {},
   "source": [
    "## the yield keyword"
   ]
  },
  {
   "cell_type": "markdown",
   "id": "da3ec3d5",
   "metadata": {},
   "source": [
    "Remember the process we wrote in the basic Simpy example."
   ]
  },
  {
   "cell_type": "code",
   "execution_count": 1,
   "id": "9f84588e",
   "metadata": {},
   "outputs": [],
   "source": [
    "def car(env):\n",
    "    while True:\n",
    "        print('driver moves to the pump at %d' % env.now)\n",
    "        # it takes 1 step to move in front of the pump\n",
    "        yield env.timeout(1)\n",
    "\n",
    "        print('driver refill the tank at %d' % env.now)\n",
    "        # it takes 3 steps (says minutes) to fill the tank\n",
    "        yield env.timeout(3)\n",
    "        \n",
    "        print('driver goes away at %d' % env.now)\n",
    "        # it takes 1 step to go back into the car and leave the gas station\n",
    "        yield env.timeout(1)\n"
   ]
  },
  {
   "cell_type": "markdown",
   "id": "9f2b30e9",
   "metadata": {},
   "source": [
    "The process uses yield to wait for the next action\n",
    "\n",
    "*yield* is the keywork Python uses to create generators.\n",
    "\n",
    "From Python documentation, we can learn that a generator is an handy way to build an iterator.\n",
    "\n",
    "Wait, what is an iterator ?"
   ]
  },
  {
   "cell_type": "markdown",
   "id": "2c72a305",
   "metadata": {},
   "source": [
    "## What is an iterator ?"
   ]
  },
  {
   "cell_type": "markdown",
   "id": "9d228a24",
   "metadata": {},
   "source": [
    "You actually used iterators before. For instance, you may go through a list using an iterator. \n",
    "\n",
    "In the following case, *for* will ask an iterator from fruits\n",
    "and iterate over"
   ]
  },
  {
   "cell_type": "code",
   "execution_count": 2,
   "id": "42238fae",
   "metadata": {},
   "outputs": [
    {
     "name": "stdout",
     "output_type": "stream",
     "text": [
      "Apple\n",
      "Orange\n",
      "Banana\n"
     ]
    }
   ],
   "source": [
    "fruits = [ \"Apple\", \"Orange\", \"Banana\"]\n",
    "for word in fruits:\n",
    "    print(word)"
   ]
  },
  {
   "cell_type": "markdown",
   "id": "cd7fbe70",
   "metadata": {},
   "source": [
    "One of the advantages of iterators is that you do not need to know the internals of the collection. It might be a list, a set, a custom thing.\n",
    "\n",
    "For instance, I may iterate over a set of fruits with the same code."
   ]
  },
  {
   "cell_type": "code",
   "execution_count": 3,
   "id": "f08f7e9e",
   "metadata": {},
   "outputs": [
    {
     "name": "stdout",
     "output_type": "stream",
     "text": [
      "Apple\n",
      "Orange\n",
      "Banana\n"
     ]
    }
   ],
   "source": [
    "fruits_set = ( \"Apple\", \"Orange\", \"Banana\" )\n",
    "for word in fruits_set:\n",
    "    print(word)"
   ]
  },
  {
   "cell_type": "markdown",
   "id": "8b8e915e",
   "metadata": {},
   "source": [
    "The examples above are about words. However, iterators are often used with numbers. \n",
    "\n",
    "For instance, generate a list of numbers."
   ]
  },
  {
   "cell_type": "code",
   "execution_count": 4,
   "id": "653b5da5",
   "metadata": {},
   "outputs": [
    {
     "name": "stdout",
     "output_type": "stream",
     "text": [
      "1\n",
      "2\n",
      "3\n",
      "4\n",
      "sum 10\n"
     ]
    }
   ],
   "source": [
    "numbers = [ 1, 2, 3, 4 ]\n",
    "for number in numbers:\n",
    "    print(number)\n",
    "\n",
    "sum_numbers = sum(numbers)\n",
    "print(f\"sum {sum_numbers}\")"
   ]
  },
  {
   "cell_type": "markdown",
   "id": "99362116",
   "metadata": {},
   "source": [
    "The modulr Itertools defines a bunch of iterators for common purposes.\n",
    "\n",
    "Reference: \n",
    "https://docs.python.org/3/library/itertools.html"
   ]
  },
  {
   "cell_type": "markdown",
   "id": "01786e17",
   "metadata": {},
   "source": [
    "Let us use the iterator repeat to yield an list of the same number repeating 3 times."
   ]
  },
  {
   "cell_type": "code",
   "execution_count": 5,
   "id": "24e0e838",
   "metadata": {},
   "outputs": [
    {
     "name": "stdout",
     "output_type": "stream",
     "text": [
      "10\n",
      "10\n",
      "10\n"
     ]
    }
   ],
   "source": [
    "from itertools import repeat\n",
    "for number in repeat(10, 3) :\n",
    "    print(number)"
   ]
  },
  {
   "cell_type": "markdown",
   "id": "e43fac4f",
   "metadata": {},
   "source": [
    "Iterators are really useful to generate infinite lists. You could not set un list with all numbers. \n",
    "\n",
    "For instance, the iterator count generates number starting from start and incremented by an amount defined by step.\n",
    "\n",
    "Say we want to generate odd numbers. As the list is infinite the for expression will loop forever. We will use a different way to get the iterator values. We will read the iterator values one by one using next."
   ]
  },
  {
   "cell_type": "code",
   "execution_count": 6,
   "id": "5346b72a",
   "metadata": {},
   "outputs": [
    {
     "name": "stdout",
     "output_type": "stream",
     "text": [
      "1\n",
      "3\n",
      "5\n"
     ]
    }
   ],
   "source": [
    "from itertools import count\n",
    "odd_number = count(1,2)\n",
    "print(next(odd_number))\n",
    "print(next(odd_number))\n",
    "print(next(odd_number))"
   ]
  },
  {
   "cell_type": "markdown",
   "id": "7a340412",
   "metadata": {},
   "source": [
    "## How does an iterator work ?"
   ]
  },
  {
   "cell_type": "markdown",
   "id": "a9a332ca",
   "metadata": {},
   "source": [
    "Internally, the for mecanism that goes through the list is similar to the code snippet below. \n",
    "\n",
    "The for expression creates an iterator and call next to get each value until there is no more value to read. \n",
    "When fruit list has been drained it raises an exception StopIteration. As a result for stops iterating over the list."
   ]
  },
  {
   "cell_type": "code",
   "execution_count": 7,
   "id": "a263707a",
   "metadata": {},
   "outputs": [
    {
     "name": "stdout",
     "output_type": "stream",
     "text": [
      "Apple\n",
      "Orange\n",
      "Banana\n",
      "Unexpected error: <class 'StopIteration'>\n"
     ]
    }
   ],
   "source": [
    "import sys\n",
    "words = [ \"Apple\", \"Orange\", \"Banana\"]\n",
    "words_iterator = iter(words)\n",
    "try:\n",
    "    print(next(words_iterator))\n",
    "    print(next(words_iterator))\n",
    "    print(next(words_iterator))\n",
    "    print(next(words_iterator))\n",
    "except StopIteration as e:\n",
    "    # fourth next raises this exception bexause the list has only 3 items\n",
    "    print(\"Unexpected error:\", sys.exc_info()[0])"
   ]
  },
  {
   "cell_type": "markdown",
   "id": "9295963d",
   "metadata": {},
   "source": [
    "## How to write an iterator ?"
   ]
  },
  {
   "cell_type": "markdown",
   "id": "1d82246d",
   "metadata": {},
   "source": [
    "Say I want to create a Fruit Basket and iterate over. What does it requires ?\n",
    "\n",
    "Let us write a very simple class and try to use for to iterrate over."
   ]
  },
  {
   "cell_type": "code",
   "execution_count": 8,
   "id": "cb0ef6dc",
   "metadata": {},
   "outputs": [
    {
     "name": "stdout",
     "output_type": "stream",
     "text": [
      "Error: (<class 'TypeError'>, TypeError(\"'FruitBasket' object is not iterable\"), <traceback object at 0x10a3989c0>)\n"
     ]
    }
   ],
   "source": [
    "class FruitBasket:\n",
    "    def __init__(self):\n",
    "        self.fruits = [ \"Apple\", \"Orange\", \"Banana\"]\n",
    "\n",
    "basket = FruitBasket()\n",
    "try:\n",
    "    for fruit in basket:\n",
    "        print(fruit)\n",
    "except:\n",
    "    print(\"Error:\", sys.exc_info())"
   ]
  },
  {
   "cell_type": "markdown",
   "id": "ceeb9e47",
   "metadata": {},
   "source": [
    "This does not work. It complains about FruitBasket not being iterable.\n",
    "\n",
    "Hmmm, what does it mean to be iterable ?\n",
    "\n",
    "Let us refactor this a bit in order to be iterable.\n",
    "\n",
    "First iterable defines a behavior. It tells that you can loop over the object. There are basically two ways of looping over the object and provide the iterable behavior:\n",
    "- provide a mean to get the element at a given index and implement \\_\\_getitem\\_\\_\n",
    "- or provide an iterator and implement \\_\\_iter\\_\\_\n",
    "\n",
    "As we define iterable partly in terms or iterator, what is an iterator ?\n",
    "\n",
    "An iterator allow to loop over the elements without the need of an index. Instead, it provides a way to get the next element and implement a method \\_\\_next\\_\\_. As a consequence, an iterator must maintain the state of the loop by itself."
   ]
  },
  {
   "cell_type": "markdown",
   "id": "0a697852",
   "metadata": {},
   "source": [
    "Let us implement FruitBasket so that it is iterable. The function getitem will read the element at a given position in the list (an index).\n",
    "\n",
    "For will be in charge of computing each index values \n",
    "up to the point where index is out of bound."
   ]
  },
  {
   "cell_type": "code",
   "execution_count": 9,
   "id": "5da10097",
   "metadata": {},
   "outputs": [
    {
     "name": "stdout",
     "output_type": "stream",
     "text": [
      "Apple\n",
      "Orange\n",
      "Banana\n"
     ]
    }
   ],
   "source": [
    "class FruitBasketWithIterable:\n",
    "    def __init__(self):\n",
    "        self.fruits = [ \"Apple\", \"Orange\", \"Banana\"]\n",
    "        \n",
    "    def __getitem__(self, n):\n",
    "        if (n > len(self.fruits)):\n",
    "            # n is out of the list upper bound\n",
    "            raise IndexError\n",
    "        # Otherwise get the nth fruit \n",
    "        return self.fruits[n]\n",
    "\n",
    "basket = FruitBasketWithIterable()\n",
    "for fruit in basket:\n",
    "    print(fruit)"
   ]
  },
  {
   "cell_type": "markdown",
   "id": "3dbdd284",
   "metadata": {},
   "source": [
    "  By the way, methods named with enclosing \\_\\_ are special. \n",
    "  They provide some well known contract. \n",
    "\n",
    "  For instance:\n",
    "  - \\_\\_init\\_\\_ construct an object of the class type\n",
    "  - \\_\\_repr\\_\\_ outputs a representation of the pbject as a string"
   ]
  },
  {
   "cell_type": "markdown",
   "id": "28d4515f",
   "metadata": {},
   "source": [
    "Let us write the iterable the other way. This one is iterable and rely on the iterator of the internal list."
   ]
  },
  {
   "cell_type": "code",
   "execution_count": 10,
   "id": "ded234d4",
   "metadata": {},
   "outputs": [
    {
     "name": "stdout",
     "output_type": "stream",
     "text": [
      "Apple\n",
      "Orange\n",
      "Banana\n"
     ]
    }
   ],
   "source": [
    "class FruitBasketWithIterator:\n",
    "    def __init__(self):\n",
    "        self.fruits = [ \"Apple\", \"Orange\", \"Banana\"]\n",
    "        \n",
    "    def __iter__(self):\n",
    "        return iter(self.fruits)\n",
    "\n",
    "basket = FruitBasketWithIterator()\n",
    "for fruit in basket:\n",
    "    print(fruit)"
   ]
  },
  {
   "cell_type": "markdown",
   "id": "2d39a83c",
   "metadata": {},
   "source": [
    "A third option is to build a custop iterator. \n",
    "\n",
    "What would be a FruitBasket iterator ?\n",
    "\n",
    "An iterator must provide a \\_\\_next\\_\\_ method, keep track of  the state of the loop,  \n",
    "and is self-iterable (meaning returns self as \\_\\_iter\\_\\_"
   ]
  },
  {
   "cell_type": "code",
   "execution_count": 11,
   "id": "e768b208",
   "metadata": {},
   "outputs": [
    {
     "name": "stdout",
     "output_type": "stream",
     "text": [
      "Apple\n",
      "Orange\n",
      "Banana\n"
     ]
    }
   ],
   "source": [
    "class FruitBasketIterator:\n",
    "    def __init__(self):\n",
    "        # init items\n",
    "        self.fruits = [ \"Apple\", \"Orange\", \"Banana\"]\n",
    "        # init state and boundary\n",
    "        self.state = 0\n",
    "        self.limit = len(self.fruits)\n",
    "\n",
    "    def __iter__(self):\n",
    "        # self-iterable\n",
    "        return self\n",
    "\n",
    "    def __next__(self):\n",
    "        if self.state >= self.limit:\n",
    "            # n is out of the list upper bound\n",
    "            raise StopIteration\n",
    "        # get the nth value \n",
    "        value = self.fruits[self.state]\n",
    "        # keep track of the state\n",
    "        self.state += 1\n",
    "        return value\n",
    "    \n",
    "basket = FruitBasketIterator()\n",
    "for fruit in basket:\n",
    "    print(fruit)"
   ]
  },
  {
   "cell_type": "markdown",
   "id": "ce69c9bf",
   "metadata": {},
   "source": [
    "This way of writing the iterable is required when dealing with infinite lists. \n",
    "\n",
    "For instance, let us implement the odd numbers iterator "
   ]
  },
  {
   "cell_type": "code",
   "execution_count": 12,
   "id": "393a8a3c",
   "metadata": {},
   "outputs": [
    {
     "name": "stdout",
     "output_type": "stream",
     "text": [
      "1\n",
      "3\n",
      "5\n"
     ]
    }
   ],
   "source": [
    "class OddNumbers:\n",
    "    def __init__(self):\n",
    "        # init \n",
    "        self.state = -1\n",
    "\n",
    "    def __iter__(self):\n",
    "        return self\n",
    "\n",
    "    def __next__(self):\n",
    "        self.state += 2\n",
    "        return self.state \n",
    "\n",
    "odds_iter = OddNumbers()\n",
    "print(next(odds_iter))\n",
    "print(next(odds_iter))\n",
    "print(next(odds_iter))"
   ]
  },
  {
   "cell_type": "markdown",
   "id": "19f8348d",
   "metadata": {},
   "source": [
    "## And now the generator"
   ]
  },
  {
   "cell_type": "markdown",
   "id": "3c1db7b6",
   "metadata": {},
   "source": [
    "Generators provides a convenient way to write iterators.\n",
    "\n",
    "> The main feature of generator is evaluating the elements on demand. When you call a normal function with a return statement the function is terminated whenever it encounters a return statement. In a function with a yield statement the state of the function is “saved” from the last call and can be picked up the next time you call a generator function. \n",
    "\n",
    "Let us compare the OddNumbers implementation with this one -using a generator. "
   ]
  },
  {
   "cell_type": "code",
   "execution_count": 13,
   "id": "3b1c4e1f",
   "metadata": {},
   "outputs": [
    {
     "name": "stdout",
     "output_type": "stream",
     "text": [
      "1\n",
      "3\n",
      "5\n"
     ]
    }
   ],
   "source": [
    "def odd_numbers_generator():\n",
    "    n = 1\n",
    "    while True:\n",
    "        yield n\n",
    "        n += 2\n",
    "        \n",
    "odds_gen = odd_numbers_generator()\n",
    "print(next(odds_gen))\n",
    "print(next(odds_gen))\n",
    "print(next(odds_gen))"
   ]
  },
  {
   "cell_type": "markdown",
   "id": "cd6bb2c6",
   "metadata": {},
   "source": [
    "The generator is written in a more compact way. However it is an iterator. It may be used the same way. \n",
    "\n",
    "For instance, iterate over geneated first n numbers, print and sum."
   ]
  },
  {
   "cell_type": "code",
   "execution_count": 14,
   "id": "5aa99ef5",
   "metadata": {},
   "outputs": [
    {
     "name": "stdout",
     "output_type": "stream",
     "text": [
      "1\n",
      "2\n",
      "3\n",
      "4\n",
      "sum 10\n"
     ]
    }
   ],
   "source": [
    "def numbers_first_n(n):\n",
    "    i = 1\n",
    "    while i <= n:\n",
    "        yield i\n",
    "        i += 1\n",
    "\n",
    "for number in numbers_first_n(4):\n",
    "    print(number)\n",
    "\n",
    "sum_numbers = sum(numbers_first_n(4))\n",
    "print(f\"sum {sum_numbers}\")"
   ]
  },
  {
   "cell_type": "markdown",
   "id": "0625ad4a",
   "metadata": {},
   "source": [
    "You may also iterate over lists"
   ]
  },
  {
   "cell_type": "code",
   "execution_count": 15,
   "id": "57f534d7",
   "metadata": {},
   "outputs": [
    {
     "name": "stdout",
     "output_type": "stream",
     "text": [
      "Apple\n",
      "Orange\n",
      "Banana\n"
     ]
    }
   ],
   "source": [
    "def words_generator(): \n",
    "    words = [ \"Apple\", \"Orange\", \"Banana\"]\n",
    "    for w in words:\n",
    "        yield w \n",
    "        \n",
    "for w in words_generator():\n",
    "    print(w)"
   ]
  },
  {
   "cell_type": "markdown",
   "id": "6754b167",
   "metadata": {},
   "source": [
    "All example above are plain function. The generator may also be a method in a class.\n",
    "\n",
    "Please note that in order to be iterable the class must implement __iter__ and __next__. Also do not put the generator into next as it would be recreated each time next is called. The state would be reset and it loops forever. Instead write the generator as a function."
   ]
  },
  {
   "cell_type": "code",
   "execution_count": 16,
   "id": "bbb70932",
   "metadata": {},
   "outputs": [
    {
     "name": "stdout",
     "output_type": "stream",
     "text": [
      "Apple\n",
      "Orange\n",
      "Banana\n"
     ]
    }
   ],
   "source": [
    "class FruitBasket:\n",
    "    def __init__(self):\n",
    "        self.fruits = [ \"Apple\", \"Orange\", \"Banana\"]\n",
    "        self.iterator = self.generator()\n",
    "\n",
    "    def __iter__(self):\n",
    "        return self\n",
    "\n",
    "    def __next__(self):\n",
    "        return next(self.iterator)\n",
    "      \n",
    "    def generator(self):\n",
    "        for w in self.fruits:\n",
    "            yield w \n",
    "\n",
    "basket = FruitBasket()\n",
    "print(next(basket))\n",
    "for fruit in basket:\n",
    "    print(fruit)"
   ]
  },
  {
   "cell_type": "markdown",
   "id": "070f3bf9",
   "metadata": {},
   "source": [
    "Please note that the self.generator() returns an iterator not a value."
   ]
  },
  {
   "cell_type": "markdown",
   "id": "848fc63b",
   "metadata": {},
   "source": [
    "## How does it relates to Simpy events ?"
   ]
  },
  {
   "cell_type": "markdown",
   "id": "2fb6ac54",
   "metadata": {},
   "source": [
    "Let us write a simple Simpy generator that we can use as a process."
   ]
  },
  {
   "cell_type": "code",
   "execution_count": 17,
   "id": "fef77c99",
   "metadata": {},
   "outputs": [
    {
     "name": "stdout",
     "output_type": "stream",
     "text": [
      "Simulation starts at 0\n",
      "Here I am at 0\n",
      "I must leave at 2\n",
      "Simulation stops at 5\n"
     ]
    }
   ],
   "source": [
    "import simpy\n",
    "\n",
    "# a function that mimics a visitor's behavior\n",
    "def visitor(env):\n",
    "    print(f\"Here I am at {env.now}\") \n",
    "    yield env.timeout(2)\n",
    "    print(f\"I must leave at {env.now}\") \n",
    "    \n",
    "env = simpy.Environment()\n",
    "# prepare the simulation\n",
    "# create a visitor\n",
    "env.process(visitor(env))\n",
    "# run the simulation step by step for 5 steps \n",
    "print(f'Simulation starts at {env.now}')\n",
    "env.run(until=5)\n",
    "print(f'Simulation stops at {env.now}')"
   ]
  },
  {
   "cell_type": "markdown",
   "id": "03bd97e2",
   "metadata": {},
   "source": [
    "When the simulation runs, it calls next against the generator. \n",
    "The code below mimics what the simulation does."
   ]
  },
  {
   "cell_type": "code",
   "execution_count": 18,
   "id": "b658597a",
   "metadata": {},
   "outputs": [
    {
     "name": "stdout",
     "output_type": "stream",
     "text": [
      "start iteration\n",
      "1\n",
      "Here I am at 0\n",
      "2\n",
      "I must leave at 0\n",
      "Error: (<class 'StopIteration'>, StopIteration(), <traceback object at 0x10b5caf40>)\n"
     ]
    }
   ],
   "source": [
    "env = simpy.Environment()\n",
    "# create a visitor\n",
    "iterator = visitor(env)\n",
    "# Do not use e,v.process here. The process is not iterable. \n",
    "# The simulation iterates over the generator the process is based on\n",
    "print(\"start iteration\")\n",
    "try:\n",
    "    print(\"1\")\n",
    "    next(iterator)\n",
    "    print(\"2\")\n",
    "    next(iterator)\n",
    "    print(\"3\")\n",
    "    next(iterator)\n",
    "    print(\"4\")\n",
    "    next(iterator)\n",
    "except:\n",
    "    print(\"Error:\", sys.exc_info())"
   ]
  },
  {
   "cell_type": "markdown",
   "id": "96d75460",
   "metadata": {},
   "source": [
    "**comment**\n",
    "\n",
    "The visitor generator is called a first time. It prints the first message. When it reaches yield it blocks until its called again.\n",
    "\n",
    "When the visitor generator is called a second time, it goes on after the yield and prints the second message. \n",
    "\n",
    "The generator is drained and raise a StopIteration exception which tells the environment that the process is done.\n",
    "\n",
    "The generator let the process decide what is coming next. \n",
    "The environment uses the generator as a standard \n",
    "interface to get the next element.\n",
    "\n",
    "Please  note that the time do not pass. All events occurs at 0. Int hte simulation the environment will manage the time passing."
   ]
  },
  {
   "cell_type": "markdown",
   "id": "f7718e3b",
   "metadata": {},
   "source": [
    "## Multiple yields"
   ]
  },
  {
   "cell_type": "markdown",
   "id": "3c6b99fe",
   "metadata": {},
   "source": [
    "What happens if the generator has multiple yields ?\n",
    "\n",
    "Check what heppens with the car process above."
   ]
  },
  {
   "cell_type": "code",
   "execution_count": 19,
   "id": "eb91b3fc",
   "metadata": {},
   "outputs": [],
   "source": [
    "import simpy\n",
    "\n",
    "# This is the process for each car\n",
    "# move to the pup, fill the tank, go away\n",
    "# the car is passed an id when it is created\n",
    "def car(env):\n",
    "    while True:\n",
    "        print(f'driver moves to the pump at {env.now}')\n",
    "        # it takes 1 step to move in front of the pump\n",
    "        yield env.timeout(1)\n",
    "\n",
    "        print(f'driver refill the tank at {env.now}')\n",
    "        # it takes 3 steps (says minutes) to fill the tank\n",
    "        yield env.timeout(3)\n",
    "\n",
    "        print(f'driver goes away at {env.now}')\n",
    "        # it takes 1 step to go back into the car and leave the gas station\n",
    "        yield env.timeout(1)\n"
   ]
  },
  {
   "cell_type": "code",
   "execution_count": 20,
   "id": "836680b1",
   "metadata": {},
   "outputs": [
    {
     "name": "stdout",
     "output_type": "stream",
     "text": [
      "start iteration\n",
      "1\n",
      "driver moves to the pump at 0\n",
      "2\n",
      "driver refill the tank at 0\n",
      "3\n",
      "driver goes away at 0\n",
      "4\n",
      "driver moves to the pump at 0\n"
     ]
    }
   ],
   "source": [
    "env = simpy.Environment()\n",
    "# create a visitor\n",
    "iterator = car(env)\n",
    "print(\"start iteration\")\n",
    "try:\n",
    "    print(\"1\")\n",
    "    next(iterator)\n",
    "    print(\"2\")\n",
    "    next(iterator)\n",
    "    print(\"3\")\n",
    "    next(iterator)\n",
    "    print(\"4\")\n",
    "    next(iterator)\n",
    "except:\n",
    "    print(\"Error:\", sys.exc_info())"
   ]
  },
  {
   "cell_type": "markdown",
   "id": "3119f255",
   "metadata": {},
   "source": [
    "**comment**\n",
    "\n",
    "When the generaotr has multiple yield, \n",
    "whether it declared multiple action or run yield inside a loop, \n",
    "the behavior is similar. \n",
    "Each time a yield is reached the process will halted until next is called."
   ]
  },
  {
   "cell_type": "markdown",
   "id": "03fd0a0a",
   "metadata": {},
   "source": [
    "## Generator chains"
   ]
  },
  {
   "cell_type": "markdown",
   "id": "36062a37",
   "metadata": {},
   "source": [
    "In simpy event may wait until some other event completes. \n",
    "\n",
    "For instance, visitor might have subprocesses"
   ]
  },
  {
   "cell_type": "code",
   "execution_count": 21,
   "id": "4d6b625e",
   "metadata": {},
   "outputs": [
    {
     "name": "stdout",
     "output_type": "stream",
     "text": [
      "Simulation starts at 0\n",
      "Here I am at 0\n",
      "took photo at 4\n",
      "I must leave at 4\n",
      "Simulation stops at 5\n"
     ]
    }
   ],
   "source": [
    "import simpy\n",
    "\n",
    "# a function that mimics the action of taking a picture\n",
    "def take_photo(env):\n",
    "    yield env.timeout(2)\n",
    "    print(f\"took photo at {env.now}\") \n",
    "\n",
    "# a function that mimics a visitor's behavior\n",
    "def visitor(env):\n",
    "    print(f\"Here I am at {env.now}\") \n",
    "    yield env.timeout(2)\n",
    "    yield env.process(take_photo(env))\n",
    "    print(f\"I must leave at {env.now}\") \n",
    "    \n",
    "env = simpy.Environment()\n",
    "# prepare the simulation\n",
    "# create a visitor\n",
    "env.process(visitor(env))\n",
    "# run the simulation step by step for 5 steps \n",
    "print(f'Simulation starts at {env.now}')\n",
    "env.run(until=5)\n",
    "print(f'Simulation stops at {env.now}')"
   ]
  },
  {
   "cell_type": "markdown",
   "id": "d7a725fa",
   "metadata": {},
   "source": [
    "What happens when a generator is chained with another generator ?\n",
    "\n",
    "Let us experiment with the fruit basket."
   ]
  },
  {
   "cell_type": "code",
   "execution_count": 22,
   "id": "04bad3e9",
   "metadata": {},
   "outputs": [
    {
     "name": "stdout",
     "output_type": "stream",
     "text": [
      "Apple\n",
      "Orange\n",
      "Banana\n"
     ]
    }
   ],
   "source": [
    "# this generator produces indexes\n",
    "def numbers_generator():\n",
    "    i = 0\n",
    "    while i < 3:\n",
    "        yield i\n",
    "        i += 1\n",
    "    # raise StopIteration when called while i is > 3\n",
    "\n",
    "# this generator reads fruit at the index given by the first generator\n",
    "def fruits_generator():\n",
    "    fruits = [ \"Apple\", \"Orange\", \"Banana\"]\n",
    "    # setup the index generator\n",
    "    gen = numbers_generator()\n",
    "    try:\n",
    "        # get next index and read fruit until the StopIteration is raised\n",
    "        while True:\n",
    "            yield fruits[next(gen)]\n",
    "    except StopIteration:\n",
    "        # it is okay. just stop reading\n",
    "        pass\n",
    "            \n",
    "for fruit in fruits_generator():\n",
    "    print(fruit)"
   ]
  },
  {
   "cell_type": "code",
   "execution_count": null,
   "id": "4f1394d9",
   "metadata": {},
   "outputs": [],
   "source": []
  }
 ],
 "metadata": {
  "kernelspec": {
   "display_name": "Python 3 (ipykernel)",
   "language": "python",
   "name": "python3"
  },
  "language_info": {
   "codemirror_mode": {
    "name": "ipython",
    "version": 3
   },
   "file_extension": ".py",
   "mimetype": "text/x-python",
   "name": "python",
   "nbconvert_exporter": "python",
   "pygments_lexer": "ipython3",
   "version": "3.8.11"
  }
 },
 "nbformat": 4,
 "nbformat_minor": 5
}
