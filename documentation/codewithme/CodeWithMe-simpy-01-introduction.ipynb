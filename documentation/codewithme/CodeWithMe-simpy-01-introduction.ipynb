{
 "cells": [
  {
   "cell_type": "markdown",
   "id": "a2d23d58",
   "metadata": {},
   "source": [
    "# Code With Me - Simpy - 00 - Introduction"
   ]
  },
  {
   "cell_type": "markdown",
   "id": "141b601c",
   "metadata": {},
   "source": [
    "This series of notebooks will lead you into Simpy step by step. \n",
    "We will build together some simulations in order to learn Simpy, understand why it works \n",
    "and learn some Python techniques required to get into Simpy. \n",
    "\n",
    "### Goal\n",
    "This is a kind of tutorial. We will learn by doing.\n",
    "\n",
    "I found the Simpy's documentation useful. However I thrived a lot in order to use it in an OOP (Object Oriented Programming). This series is a lot about using Simpy and OOP. It will not require a full knowledge of Python and OOP through. Advanced concepts will be explained.\n",
    "\n",
    "### Prerequisites\n",
    "- basic knowledge of Python\n",
    "- basic knowledge of Object programming (concepts of class, method, attribute)"
   ]
  },
  {
   "cell_type": "markdown",
   "id": "b676f297",
   "metadata": {},
   "source": [
    "## What is Simpy ?"
   ]
  },
  {
   "cell_type": "markdown",
   "id": "dfd46eef",
   "metadata": {},
   "source": [
    "Simpy defines itself as stated below\n",
    "\n",
    "> SimPy is a process-based discrete-event simulation framework based on standard Python - Syympy documentation.\n",
    "    \n",
    "First a simulation is a model or tool which goal is to behave like the real world in order to study some real world aspect.\n",
    "For instance:\n",
    "- people in a store and line length\n",
    "- interaction between objects \n",
    "\n",
    "This is really useful when it is not possible to observe the real world.\n",
    "\n",
    "A discrete-event simulation is a technique where the simulation mimics the real world by mimicking each even occuring in the real world and observe the process to check what happen.\n",
    "> Alernative options for modeling is to use formulas, equations to compute the result. There are not always available or may not meet the needs of the survey.\n",
    "\n",
    "Let us say that I need to evaluate if a departement store is safe. It is located in a beautiful old-fashion buiding. Its floor cannot support more than 500 persons. People may come in to visit the building, stay for a while, some may look for a specific item and finally some may buy something and eventually they leave. There are a limited number of checkout desks and people may have to wait in line in order to pay. By observing other stores in the area we featured out the expected number of people coming each hour. \n",
    "\n",
    "I may ask the following questions:\n",
    "- does the number of people always stay under 500 ?\n",
    "- where are these people, do they shop or stay in line ?\n",
    "- how many checkout are required ?"
   ]
  },
  {
   "cell_type": "markdown",
   "id": "49ef94f5",
   "metadata": {},
   "source": [
    "## Simpy documentation \n",
    "Simpy documentation starts here [Simpy Overview](https://simpy.readthedocs.io/en/latest/) \n",
    "\n",
    "The best place to start is [Simpy in 10 minutes](https://simpy.readthedocs.io/en/latest/simpy_intro/index.html) \n",
    "  \n",
    "You may also want to check [SimPy basics](https://simpy.readthedocs.io/en/latest/topical_guides/simpy_basics.html)\n",
    " in the Topical Guide to understand how it works.\n",
    " \n",
    "The [API Reference](https://simpy.readthedocs.io/en/latest/api_reference/index.html) is useful to check the capabilities of Simpy classes."
   ]
  },
  {
   "cell_type": "markdown",
   "id": "4704d2d5",
   "metadata": {},
   "source": [
    "# A simple simulation"
   ]
  },
  {
   "cell_type": "markdown",
   "id": "ca239141",
   "metadata": {},
   "source": [
    "Let us star with a very simple example. We want to make a simulation of a gas station. \n",
    "- The gas station has 2 pumps \n",
    "- Cars will stay in line until they can refill their tanks"
   ]
  },
  {
   "cell_type": "markdown",
   "id": "106d1b6a",
   "metadata": {},
   "source": [
    "### install the simpy package"
   ]
  },
  {
   "cell_type": "code",
   "execution_count": 1,
   "id": "a7c2e3d8",
   "metadata": {},
   "outputs": [
    {
     "name": "stdout",
     "output_type": "stream",
     "text": [
      "Requirement already satisfied: simpy in /Users/cfalguiere/opt/anaconda3/envs/simpy/lib/python3.8/site-packages (4.0.1)\r\n"
     ]
    }
   ],
   "source": [
    "!pip install simpy"
   ]
  },
  {
   "cell_type": "markdown",
   "id": "ba5e6cd3",
   "metadata": {},
   "source": [
    "### simple process example"
   ]
  },
  {
   "cell_type": "markdown",
   "id": "aca0d0df",
   "metadata": {},
   "source": [
    "Let us start with a simple example. Cars wait at a gas station. This is the process we want to implement.\n",
    "\n",
    "> Processes in SimPy are defined by Python generator functions and may, for example, be used to model active components like customers, vehicles or agents. - Simpy documentation \n",
    "\n",
    "We will check in the next episode what a generator is. For the time being let us consider that the generator is a function that has some yield statement."
   ]
  },
  {
   "cell_type": "code",
   "execution_count": 2,
   "id": "d087aaec",
   "metadata": {},
   "outputs": [
    {
     "name": "stdout",
     "output_type": "stream",
     "text": [
      "Simulation starts at 0\n",
      "driver moves to the pump at 0\n",
      "driver refill the tank at 1\n",
      "driver goes away at 4\n",
      "driver moves to the pump at 5\n",
      "driver refill the tank at 6\n",
      "driver goes away at 9\n",
      "Simulation stops at 10\n"
     ]
    }
   ],
   "source": [
    "# Tell we will use simpy\n",
    "import simpy\n",
    "\n",
    "# This is the process for each car\n",
    "# move to the pup, fill the tank, go away\n",
    "# when a car has filled it tank, the next car will come \n",
    "def car(env):\n",
    "    while True:\n",
    "        print('driver moves to the pump at %d' % env.now)\n",
    "        # it takes 1 step to move in front of the pump\n",
    "        yield env.timeout(1)\n",
    "\n",
    "        print('driver refill the tank at %d' % env.now)\n",
    "        # it takes 3 steps (says minutes) to fill the tank\n",
    "        yield env.timeout(3)\n",
    "        \n",
    "        print('driver goes away at %d' % env.now)\n",
    "        # it takes 1 step to go back into the car and leave the gas station\n",
    "        yield env.timeout(1)\n",
    "\n",
    "# the environement is the frame of the simulation\n",
    "# the class Environment contains the tools to work with processes\n",
    "# this piece of code creates an object of type Environement\n",
    "env = simpy.Environment()\n",
    "# prepare the simulation\n",
    "# register  the function car as a process\n",
    "env.process(car(env))\n",
    "# run the simulation step by step for 10 steps \n",
    "print(f'Simulation starts at {env.now}')\n",
    "env.run(until=10)\n",
    "print(f'Simulation stops at {env.now}')"
   ]
  },
  {
   "cell_type": "markdown",
   "id": "fe395e7e",
   "metadata": {},
   "source": [
    "**comments**\n",
    "\n",
    "In this simulation the car process occured twice.\n",
    "- the first car moved in at 0, starts refilling at 1 and went away at 4\n",
    "- the next car moved in at 5, starts refilling at 6 and went away at 9\n",
    "\n",
    "Time passing and gaps are caused by the timeout expressions.\n",
    "\n",
    "The car function implements a loop in while True. It is an infinite llop. It will yield the car actions and messages again and again until the simulation end.\n",
    "> You may check this by yourseilf by changing the simulation duration (the value of the parameter until)"
   ]
  },
  {
   "cell_type": "markdown",
   "id": "e20d0731",
   "metadata": {},
   "source": [
    "## simple process consuming resource "
   ]
  },
  {
   "cell_type": "markdown",
   "id": "9ea2d4d3",
   "metadata": {},
   "source": [
    "The reason why simulation are done is often to check of some resource or capacity is used.\n",
    "\n",
    "> SimPy also provides various types of shared resources to model limited capacity congestion points (like servers, checkout counters and tunnels). - Simpy documentation \n",
    "\n",
    "Say the gas station has 2 pumps. \n",
    "\n",
    "We cannot use an infinite process as multiple drivers may refill in parallel. \n",
    "\n",
    "The change is that now the process does not loop anymore. Instead we will create multiple car. A car will hold the pump (a resource in Simpy workd) and the next car comes in when the previous car release the pump."
   ]
  },
  {
   "cell_type": "code",
   "execution_count": 3,
   "id": "deff64d0",
   "metadata": {},
   "outputs": [
    {
     "name": "stdout",
     "output_type": "stream",
     "text": [
      "Simulation starts at 0\n",
      "driver 0 moves to the pump at 0\n",
      "driver 1 moves to the pump at 0\n",
      "driver 2 moves to the pump at 0\n",
      "driver 3 moves to the pump at 0\n",
      "driver 4 moves to the pump at 0\n",
      "driver 0 refill the tank at 1\n",
      "driver 1 refill the tank at 1\n",
      "driver 2 refill the tank at 1\n",
      "driver 3 refill the tank at 1\n",
      "driver 4 refill the tank at 1\n",
      "driver 0 goes away at 4\n",
      "driver 1 goes away at 4\n",
      "driver 2 goes away at 4\n",
      "driver 3 goes away at 4\n",
      "driver 4 goes away at 4\n",
      "Simulation stops at 10\n"
     ]
    }
   ],
   "source": [
    "# Tell we will use simpy\n",
    "import simpy\n",
    "\n",
    "# This is the process for each car\n",
    "# move to the pup, fill the tank, go away\n",
    "# the car is passed an id when it is created\n",
    "# it is used in the print statement\n",
    "# the f\" \" string is a formatted string. {} encloses the value to insert\n",
    "def car(env, id):\n",
    "    print(f'driver {id} moves to the pump at {env.now}')\n",
    "    # it takes 1 step to move in front of the pump\n",
    "    yield env.timeout(1)\n",
    "\n",
    "    print(f'driver {id} refill the tank at {env.now}')\n",
    "    # it takes 3 steps (says minutes) to fill the tank\n",
    "    yield env.timeout(3)\n",
    "\n",
    "    print(f'driver {id} goes away at {env.now}')\n",
    "    # it takes 1 step to go back into the car and leave the gas station\n",
    "    yield env.timeout(1)\n",
    "\n",
    "env = simpy.Environment()\n",
    "# prepare the simulation\n",
    "# creates 5 cars\n",
    "for i in range(0,5):\n",
    "    # register  the function car as a process\n",
    "    # the id is the current count\n",
    "    env.process(car(env, i))\n",
    "# run the simulation step by step for 10 steps \n",
    "print(f'Simulation starts at {env.now}')\n",
    "env.run(until=10)\n",
    "print(f'Simulation stops at {env.now}')"
   ]
  },
  {
   "cell_type": "markdown",
   "id": "6502e847",
   "metadata": {},
   "source": [
    "**comments**\n",
    "\n",
    "Up to now each car starts at 0 and leave at 4 because the constraint on pump is not taken into account.\n"
   ]
  },
  {
   "cell_type": "markdown",
   "id": "02542113",
   "metadata": {},
   "source": [
    "Let us add the pumps as a resource"
   ]
  },
  {
   "cell_type": "code",
   "execution_count": 4,
   "id": "7de6b6b5",
   "metadata": {},
   "outputs": [
    {
     "name": "stdout",
     "output_type": "stream",
     "text": [
      "Simulation starts at 0\n",
      "driver 0 arrives at 0\n",
      "driver 1 arrives at 0\n",
      "driver 2 arrives at 0\n",
      "driver 3 arrives at 0\n",
      "driver 4 arrives at 0\n",
      "driver 0 moves to the pump at 0\n",
      "driver 1 moves to the pump at 0\n",
      "driver 0 refill the tank at 1\n",
      "driver 1 refill the tank at 1\n",
      "driver 0 goes away at 4\n",
      "driver 1 goes away at 4\n",
      "driver 2 moves to the pump at 5\n",
      "driver 3 moves to the pump at 5\n",
      "driver 2 refill the tank at 6\n",
      "driver 3 refill the tank at 6\n",
      "driver 2 goes away at 9\n",
      "driver 3 goes away at 9\n",
      "Simulation stops at 10\n"
     ]
    }
   ],
   "source": [
    "# Tell we will use simpy\n",
    "import simpy\n",
    "\n",
    "# This is the process for each car\n",
    "# move to the pup, fill the tank, go away\n",
    "# the refill now hold a resource\n",
    "def car(env, id):\n",
    "    # The with statement is used when something is created \n",
    "    # and it is required to do a specific operation \n",
    "    # when it is not used anymore\n",
    "    # Here with will keeo track of the resource request and \n",
    "    # release it when the end of the with statemebt is reached\n",
    "    with pumps.request() as req:\n",
    "        print(f'driver {id} arrives at {env.now}')\n",
    "        # request the resource\n",
    "        yield req\n",
    "        \n",
    "        print(f'driver {id} moves to the pump at {env.now}')\n",
    "        # it takes 1 step to move in front of the pump\n",
    "        yield env.timeout(1)\n",
    "\n",
    "        print(f'driver {id} refill the tank at {env.now}')\n",
    "        # it takes 3 steps (says minutes) to fill the tank\n",
    "        # hold during 3 stepsto refill when the resource is available\n",
    "        yield env.timeout(3)\n",
    "\n",
    "        print(f'driver {id} goes away at {env.now}')\n",
    "        # it takes 1 step to go back into the car and leave the gas station\n",
    "        yield env.timeout(1)\n",
    "\n",
    "        # the release is done automatically by the resource statement with\n",
    "\n",
    "env = simpy.Environment()\n",
    "# prepare the simulation\n",
    "# creates 5 cars\n",
    "for i in range(0,5):\n",
    "    # register  the function car as a process\n",
    "    # the id is the current count\n",
    "    env.process(car(env, i))\n",
    "# Creates a resource limited to 2 instance\n",
    "pumps = simpy.Resource(env, capacity=2)\n",
    "# run the simulation step by step for 10 steps \n",
    "print(f'Simulation starts at {env.now}')\n",
    "env.run(until=10)\n",
    "print(f'Simulation stops at {env.now}')"
   ]
  },
  {
   "cell_type": "markdown",
   "id": "0267818c",
   "metadata": {},
   "source": [
    "**comments**\n",
    "\n",
    "Though they akk arrives at 0, cars 0 and 1 are served at 0, \n",
    "and cars 2 and 3 can access the pump at 5 \n",
    "when cars 0 and 1 released the pump.\n",
    "\n",
    "Car 4 never show up because the simulation ended before it could refill.\n",
    "> You can check by yourself that it would have been served should the simulation be longer enough\n",
    "Time passing and gaps are caused by the timeout expressions.\n"
   ]
  },
  {
   "cell_type": "markdown",
   "id": "10f38335",
   "metadata": {},
   "source": [
    "There are other types od resources. \n",
    "For instance, a Container might be used to track the quantity of gas available at the pump."
   ]
  },
  {
   "cell_type": "code",
   "execution_count": null,
   "id": "4a52e7d2",
   "metadata": {},
   "outputs": [],
   "source": []
  }
 ],
 "metadata": {
  "kernelspec": {
   "display_name": "Python 3 (ipykernel)",
   "language": "python",
   "name": "python3"
  },
  "language_info": {
   "codemirror_mode": {
    "name": "ipython",
    "version": 3
   },
   "file_extension": ".py",
   "mimetype": "text/x-python",
   "name": "python",
   "nbconvert_exporter": "python",
   "pygments_lexer": "ipython3",
   "version": "3.8.11"
  }
 },
 "nbformat": 4,
 "nbformat_minor": 5
}
