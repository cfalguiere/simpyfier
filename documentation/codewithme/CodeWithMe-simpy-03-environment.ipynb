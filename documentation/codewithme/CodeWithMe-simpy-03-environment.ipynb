{
 "cells": [
  {
   "cell_type": "code",
   "execution_count": 1,
   "id": "56a07e6c",
   "metadata": {},
   "outputs": [],
   "source": [
    "# Code With Me - Simpy - 03 - Environment"
   ]
  },
  {
   "cell_type": "markdown",
   "id": "7a61062e",
   "metadata": {},
   "source": [
    "### Goal\n",
    "- deep dive into Simpy Environment\n",
    "- schedule events and tilme passing"
   ]
  },
  {
   "cell_type": "markdown",
   "id": "113deb69",
   "metadata": {},
   "source": [
    "### Install the simpy package"
   ]
  },
  {
   "cell_type": "code",
   "execution_count": 2,
   "id": "c379869b",
   "metadata": {},
   "outputs": [
    {
     "name": "stdout",
     "output_type": "stream",
     "text": [
      "Requirement already satisfied: simpy in /Users/cfalguiere/opt/anaconda3/envs/simpy/lib/python3.8/site-packages (4.0.1)\r\n"
     ]
    }
   ],
   "source": [
    "!pip install simpy"
   ]
  },
  {
   "cell_type": "markdown",
   "id": "edc7c1b7",
   "metadata": {},
   "source": [
    "## Let us schedule some events"
   ]
  },
  {
   "cell_type": "markdown",
   "id": "d3a7d26c",
   "metadata": {},
   "source": [
    "Add some people visiting the bank"
   ]
  },
  {
   "cell_type": "code",
   "execution_count": 4,
   "id": "1cb6f038",
   "metadata": {},
   "outputs": [
    {
     "name": "stdout",
     "output_type": "stream",
     "text": [
      "Simulation starts at 0\n",
      "Alice: Here I am at 1\n",
      "Bob: Here I am at 2\n",
      "Alice: I must leave at 3\n",
      "Bob: I must leave at 4\n",
      "Simulation stops at 10\n"
     ]
    }
   ],
   "source": [
    "# Tell that we want to use the class Environment in module simpy\n",
    "from simpy import Environment\n",
    "\n",
    "# a function that mimics a visitor's behavior\n",
    "def visitor(env, name):\n",
    "    print(f\"{name}: Here I am at {env.now}\") \n",
    "    yield env.timeout(2)\n",
    "    print(f\"{name}: I must leave at {env.now}\") \n",
    "\n",
    "# a function that create a visitor each when iterated over\n",
    "def visitor_generator(env):\n",
    "    for name in [ \"Alice\", \"Bob\"]:\n",
    "        yield env.timeout(1)\n",
    "        env.process(visitor(env, name))  \n",
    "        \n",
    "# create an environment\n",
    "# can use Environment without naming the module\n",
    "env = Environment()\n",
    "# create some visitors\n",
    "visitors = env.process(visitor_generator(env))\n",
    "# run the simulation for 10 steps\n",
    "print(f'Simulation starts at {env.now}')\n",
    "sim_duration = 10\n",
    "env.run(until=sim_duration)\n",
    "print(f'Simulation stops at {env.now}')"
   ]
  },
  {
   "cell_type": "code",
   "execution_count": null,
   "id": "0af23554",
   "metadata": {},
   "outputs": [],
   "source": [
    "TODO Alice starts at 1 Bob at 3"
   ]
  },
  {
   "cell_type": "code",
   "execution_count": null,
   "id": "ec106075",
   "metadata": {},
   "outputs": [],
   "source": []
  },
  {
   "cell_type": "code",
   "execution_count": null,
   "id": "6ba4fd4e",
   "metadata": {},
   "outputs": [],
   "source": []
  },
  {
   "cell_type": "markdown",
   "id": "7bc69cdd",
   "metadata": {},
   "source": [
    "callback is called at the end "
   ]
  },
  {
   "cell_type": "code",
   "execution_count": 5,
   "id": "0e40260f",
   "metadata": {},
   "outputs": [
    {
     "name": "stdout",
     "output_type": "stream",
     "text": [
      "Next scheduled event at 0\n",
      "Step forward\n",
      "Alice: Here I am at 0\n",
      "Next scheduled event at 2\n",
      "Step forward\n",
      "Alice: I must leave at 2\n",
      "Next scheduled event at 2\n",
      "Step forward\n",
      "End of event <Process(visitor) object at 0x10cd2f250> at 2'\n",
      "Next scheduled event at inf\n",
      "Step forward\n",
      "Error: (<class 'simpy.core.EmptySchedule'>, EmptySchedule(), <traceback object at 0x10ba47fc0>)\n"
     ]
    }
   ],
   "source": [
    "import sys\n",
    "\n",
    "# a function that mimics a visitor's behavior\n",
    "def visitor(env, name):\n",
    "    print(f\"{name}: Here I am at {env.now}\") \n",
    "    yield env.timeout(2)\n",
    "    print(f\"{name}: I must leave at {env.now}\") \n",
    "\n",
    "def trace(event):\n",
    "    print(f\"End of event {event} at {event.env.now}'\")\n",
    "\n",
    "# create an environment\n",
    "env = Environment()\n",
    "v = env.process(visitor(env, \"Alice\"))\n",
    "v.callbacks.append(trace)\n",
    "try:\n",
    "    while True:\n",
    "        next_scheduled_event = env.peek()\n",
    "        print(f\"Next scheduled event at {next_scheduled_event}\")\n",
    "        print(f\"Step forward\")\n",
    "        env.step()\n",
    "except:\n",
    "    print(\"Error:\", sys.exc_info())"
   ]
  },
  {
   "cell_type": "code",
   "execution_count": null,
   "id": "25a4e229",
   "metadata": {},
   "outputs": [],
   "source": []
  },
  {
   "cell_type": "code",
   "execution_count": null,
   "id": "a753b907",
   "metadata": {},
   "outputs": [],
   "source": [
    "TODO 2 yields"
   ]
  },
  {
   "cell_type": "code",
   "execution_count": 6,
   "id": "7753fafd",
   "metadata": {},
   "outputs": [
    {
     "ename": "NameError",
     "evalue": "name 'snoop' is not defined",
     "output_type": "error",
     "traceback": [
      "\u001b[0;31m---------------------------------------------------------------------------\u001b[0m",
      "\u001b[0;31mNameError\u001b[0m                                 Traceback (most recent call last)",
      "\u001b[0;32m/var/folders/mz/jwctlgxx11bg34b_1wygb5br0000gp/T/ipykernel_1150/2244837763.py\u001b[0m in \u001b[0;36m<module>\u001b[0;34m\u001b[0m\n\u001b[1;32m     22\u001b[0m \u001b[0;31m# create some visitors\u001b[0m\u001b[0;34m\u001b[0m\u001b[0;34m\u001b[0m\u001b[0;34m\u001b[0m\u001b[0m\n\u001b[1;32m     23\u001b[0m \u001b[0mvisitors\u001b[0m \u001b[0;34m=\u001b[0m \u001b[0menv\u001b[0m\u001b[0;34m.\u001b[0m\u001b[0mprocess\u001b[0m\u001b[0;34m(\u001b[0m\u001b[0mvisitor_generator\u001b[0m\u001b[0;34m(\u001b[0m\u001b[0menv\u001b[0m\u001b[0;34m)\u001b[0m\u001b[0;34m)\u001b[0m\u001b[0;34m\u001b[0m\u001b[0;34m\u001b[0m\u001b[0m\n\u001b[0;32m---> 24\u001b[0;31m \u001b[0mvisitors\u001b[0m\u001b[0;34m.\u001b[0m\u001b[0mcallbacks\u001b[0m\u001b[0;34m.\u001b[0m\u001b[0mappend\u001b[0m\u001b[0;34m(\u001b[0m\u001b[0msnoop\u001b[0m\u001b[0;34m)\u001b[0m\u001b[0;34m\u001b[0m\u001b[0;34m\u001b[0m\u001b[0m\n\u001b[0m\u001b[1;32m     25\u001b[0m \u001b[0;31m# run the simulation for 10 steps\u001b[0m\u001b[0;34m\u001b[0m\u001b[0;34m\u001b[0m\u001b[0;34m\u001b[0m\u001b[0m\n\u001b[1;32m     26\u001b[0m \u001b[0mprint\u001b[0m\u001b[0;34m(\u001b[0m\u001b[0;34mf'Simulation starts at {env.now}'\u001b[0m\u001b[0;34m)\u001b[0m\u001b[0;34m\u001b[0m\u001b[0;34m\u001b[0m\u001b[0m\n",
      "\u001b[0;31mNameError\u001b[0m: name 'snoop' is not defined"
     ]
    }
   ],
   "source": [
    "# Tell that we want to use the class Environment in module simpy\n",
    "from simpy import Environment\n",
    "\n",
    "# a function that mimics a visitor's behavior\n",
    "def visitor(env, name):\n",
    "    print(f\"{name}: Here I am at {env.now}\") \n",
    "    yield env.timeout(2)\n",
    "    print(f\"{name}: I must leave at {env.now}\") \n",
    "\n",
    "# a function that creates a visitor each when iterated over\n",
    "def visitor_generator(env):\n",
    "    for name in [ \"Alice\", \"Bob\"]:\n",
    "        yield env.timeout(1)\n",
    "        v = env.process(visitor(env, name)) \n",
    "        v.callbacks.append(trace)\n",
    "\n",
    "def trace(event):\n",
    "    print(f\"End of event {event} at {event.env.now}'\")\n",
    "\n",
    "# create an environment\n",
    "env = Environment()\n",
    "# create some visitors\n",
    "visitors = env.process(visitor_generator(env))\n",
    "visitors.callbacks.append(snoop)\n",
    "# run the simulation for 10 steps\n",
    "print(f'Simulation starts at {env.now}')\n",
    "sim_duration = 10\n",
    "env.run(until=sim_duration)\n",
    "print(f'Simulation stops at {env.now}')"
   ]
  },
  {
   "cell_type": "code",
   "execution_count": null,
   "id": "2774bbe1",
   "metadata": {},
   "outputs": [],
   "source": [
    "import sys\n",
    "\n",
    "# a function that mimics a visitor's behavior\n",
    "def visitor(env, name):\n",
    "    print(f\"{name}: Here I am at {env.now}\") \n",
    "    yield env.timeout(2)\n",
    "    print(f\"{name}: I must leave at {env.now}\") \n",
    "\n",
    "# a function that creates a visitor each when iterated over\n",
    "def visitor_generator(env):\n",
    "    for name in [ \"Alice\", \"Bob\"]:\n",
    "        yield env.timeout(1)\n",
    "        v = env.process(visitor(env, name)) \n",
    "        v.callbacks.append(trace)\n",
    "\n",
    "def trace(event):\n",
    "    print(f\"End of event {event} at {event.env.now}'\")\n",
    "\n",
    "# create an environment\n",
    "env = Environment()\n",
    "visitors = env.process(visitor_generator(env))\n",
    "try:\n",
    "    while True:\n",
    "        next_scheduled_event = env.peek()\n",
    "        print(f\"Next scheduled event at {next_scheduled_event}\")\n",
    "        print(f\"Step forward\")\n",
    "        env.step()\n",
    "except:\n",
    "    print(\"Error:\", sys.exc_info())"
   ]
  },
  {
   "cell_type": "markdown",
   "id": "4da43abf",
   "metadata": {},
   "source": [
    "remember the source is a generator"
   ]
  }
 ],
 "metadata": {
  "kernelspec": {
   "display_name": "Python 3 (ipykernel)",
   "language": "python",
   "name": "python3"
  },
  "language_info": {
   "codemirror_mode": {
    "name": "ipython",
    "version": 3
   },
   "file_extension": ".py",
   "mimetype": "text/x-python",
   "name": "python",
   "nbconvert_exporter": "python",
   "pygments_lexer": "ipython3",
   "version": "3.8.11"
  }
 },
 "nbformat": 4,
 "nbformat_minor": 5
}
